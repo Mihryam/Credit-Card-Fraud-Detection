{
 "cells": [
  {
   "cell_type": "markdown",
   "metadata": {},
   "source": [
    "# Credit Card Fraud\n",
    "We're looking to minimize the False Negative Rate or FNR.\n",
    "\n",
    "Since the dataset is unbalanced, we can try two techniques that may help us have better predictions:\n",
    "\n",
    "- Adding some noise (gaussian) to the fraud data to create more and reduce the imbalance\n",
    "- Randomly sample the fraud data and train k models and average them out (or choose the best)"
   ]
  },
  {
   "cell_type": "code",
   "execution_count": 1,
   "metadata": {},
   "outputs": [
    {
     "name": "stderr",
     "output_type": "stream",
     "text": [
      "C:\\Users\\Mnesoma\\Anaconda3\\lib\\site-packages\\pandas\\compat\\_optional.py:138: UserWarning: Pandas requires version '2.7.0' or newer of 'numexpr' (version '2.6.9' currently installed).\n",
      "  warnings.warn(msg, UserWarning)\n"
     ]
    }
   ],
   "source": [
    "import numpy as np\n",
    "import pandas as pd\n",
    "import matplotlib.pyplot as plt\n",
    "import seaborn as sns"
   ]
  },
  {
   "cell_type": "code",
   "execution_count": 2,
   "metadata": {},
   "outputs": [
    {
     "data": {
      "text/html": [
       "<div>\n",
       "<style scoped>\n",
       "    .dataframe tbody tr th:only-of-type {\n",
       "        vertical-align: middle;\n",
       "    }\n",
       "\n",
       "    .dataframe tbody tr th {\n",
       "        vertical-align: top;\n",
       "    }\n",
       "\n",
       "    .dataframe thead th {\n",
       "        text-align: right;\n",
       "    }\n",
       "</style>\n",
       "<table border=\"1\" class=\"dataframe\">\n",
       "  <thead>\n",
       "    <tr style=\"text-align: right;\">\n",
       "      <th></th>\n",
       "      <th>Time</th>\n",
       "      <th>V1</th>\n",
       "      <th>V2</th>\n",
       "      <th>V3</th>\n",
       "      <th>V4</th>\n",
       "      <th>V5</th>\n",
       "      <th>V6</th>\n",
       "      <th>V7</th>\n",
       "      <th>V8</th>\n",
       "      <th>V9</th>\n",
       "      <th>...</th>\n",
       "      <th>V21</th>\n",
       "      <th>V22</th>\n",
       "      <th>V23</th>\n",
       "      <th>V24</th>\n",
       "      <th>V25</th>\n",
       "      <th>V26</th>\n",
       "      <th>V27</th>\n",
       "      <th>V28</th>\n",
       "      <th>Amount</th>\n",
       "      <th>Class</th>\n",
       "    </tr>\n",
       "  </thead>\n",
       "  <tbody>\n",
       "    <tr>\n",
       "      <th>0</th>\n",
       "      <td>46375.0</td>\n",
       "      <td>-1.188475</td>\n",
       "      <td>0.741842</td>\n",
       "      <td>1.012358</td>\n",
       "      <td>-0.403848</td>\n",
       "      <td>-0.296279</td>\n",
       "      <td>-1.199539</td>\n",
       "      <td>0.411554</td>\n",
       "      <td>0.406564</td>\n",
       "      <td>-0.284847</td>\n",
       "      <td>...</td>\n",
       "      <td>0.050697</td>\n",
       "      <td>-0.164207</td>\n",
       "      <td>0.047955</td>\n",
       "      <td>0.352960</td>\n",
       "      <td>-0.188352</td>\n",
       "      <td>0.222495</td>\n",
       "      <td>0.157370</td>\n",
       "      <td>0.078376</td>\n",
       "      <td>49.99</td>\n",
       "      <td>0</td>\n",
       "    </tr>\n",
       "    <tr>\n",
       "      <th>1</th>\n",
       "      <td>161856.0</td>\n",
       "      <td>-0.329387</td>\n",
       "      <td>1.272450</td>\n",
       "      <td>-0.384084</td>\n",
       "      <td>0.514773</td>\n",
       "      <td>1.425933</td>\n",
       "      <td>0.047404</td>\n",
       "      <td>1.355803</td>\n",
       "      <td>-0.229888</td>\n",
       "      <td>-0.196655</td>\n",
       "      <td>...</td>\n",
       "      <td>0.011464</td>\n",
       "      <td>0.461422</td>\n",
       "      <td>-0.441875</td>\n",
       "      <td>-1.127337</td>\n",
       "      <td>0.090477</td>\n",
       "      <td>-0.359732</td>\n",
       "      <td>0.231069</td>\n",
       "      <td>0.056658</td>\n",
       "      <td>1.99</td>\n",
       "      <td>0</td>\n",
       "    </tr>\n",
       "    <tr>\n",
       "      <th>2</th>\n",
       "      <td>125879.0</td>\n",
       "      <td>2.057270</td>\n",
       "      <td>-0.040431</td>\n",
       "      <td>-1.124191</td>\n",
       "      <td>0.383125</td>\n",
       "      <td>-0.031103</td>\n",
       "      <td>-1.113533</td>\n",
       "      <td>0.229712</td>\n",
       "      <td>-0.358914</td>\n",
       "      <td>0.467485</td>\n",
       "      <td>...</td>\n",
       "      <td>-0.287684</td>\n",
       "      <td>-0.685587</td>\n",
       "      <td>0.308161</td>\n",
       "      <td>-0.094908</td>\n",
       "      <td>-0.263114</td>\n",
       "      <td>0.202369</td>\n",
       "      <td>-0.068883</td>\n",
       "      <td>-0.058826</td>\n",
       "      <td>9.99</td>\n",
       "      <td>0</td>\n",
       "    </tr>\n",
       "    <tr>\n",
       "      <th>3</th>\n",
       "      <td>147645.0</td>\n",
       "      <td>1.915762</td>\n",
       "      <td>1.753538</td>\n",
       "      <td>-2.592348</td>\n",
       "      <td>4.416900</td>\n",
       "      <td>1.504678</td>\n",
       "      <td>-1.279130</td>\n",
       "      <td>0.641565</td>\n",
       "      <td>-0.313370</td>\n",
       "      <td>-1.462187</td>\n",
       "      <td>...</td>\n",
       "      <td>-0.022968</td>\n",
       "      <td>0.061429</td>\n",
       "      <td>-0.026413</td>\n",
       "      <td>-0.366371</td>\n",
       "      <td>0.152671</td>\n",
       "      <td>0.135607</td>\n",
       "      <td>0.026310</td>\n",
       "      <td>0.061945</td>\n",
       "      <td>0.00</td>\n",
       "      <td>0</td>\n",
       "    </tr>\n",
       "    <tr>\n",
       "      <th>4</th>\n",
       "      <td>138356.0</td>\n",
       "      <td>-0.708190</td>\n",
       "      <td>-1.278300</td>\n",
       "      <td>1.950840</td>\n",
       "      <td>-0.880215</td>\n",
       "      <td>-0.282634</td>\n",
       "      <td>0.006003</td>\n",
       "      <td>-1.374533</td>\n",
       "      <td>0.490273</td>\n",
       "      <td>-0.157011</td>\n",
       "      <td>...</td>\n",
       "      <td>0.174686</td>\n",
       "      <td>0.363718</td>\n",
       "      <td>0.039249</td>\n",
       "      <td>-0.354468</td>\n",
       "      <td>-0.498980</td>\n",
       "      <td>-0.133635</td>\n",
       "      <td>0.161716</td>\n",
       "      <td>0.161888</td>\n",
       "      <td>15.29</td>\n",
       "      <td>0</td>\n",
       "    </tr>\n",
       "  </tbody>\n",
       "</table>\n",
       "<p>5 rows × 31 columns</p>\n",
       "</div>"
      ],
      "text/plain": [
       "       Time        V1        V2        V3        V4        V5        V6  \\\n",
       "0   46375.0 -1.188475  0.741842  1.012358 -0.403848 -0.296279 -1.199539   \n",
       "1  161856.0 -0.329387  1.272450 -0.384084  0.514773  1.425933  0.047404   \n",
       "2  125879.0  2.057270 -0.040431 -1.124191  0.383125 -0.031103 -1.113533   \n",
       "3  147645.0  1.915762  1.753538 -2.592348  4.416900  1.504678 -1.279130   \n",
       "4  138356.0 -0.708190 -1.278300  1.950840 -0.880215 -0.282634  0.006003   \n",
       "\n",
       "         V7        V8        V9  ...       V21       V22       V23       V24  \\\n",
       "0  0.411554  0.406564 -0.284847  ...  0.050697 -0.164207  0.047955  0.352960   \n",
       "1  1.355803 -0.229888 -0.196655  ...  0.011464  0.461422 -0.441875 -1.127337   \n",
       "2  0.229712 -0.358914  0.467485  ... -0.287684 -0.685587  0.308161 -0.094908   \n",
       "3  0.641565 -0.313370 -1.462187  ... -0.022968  0.061429 -0.026413 -0.366371   \n",
       "4 -1.374533  0.490273 -0.157011  ...  0.174686  0.363718  0.039249 -0.354468   \n",
       "\n",
       "        V25       V26       V27       V28  Amount  Class  \n",
       "0 -0.188352  0.222495  0.157370  0.078376   49.99      0  \n",
       "1  0.090477 -0.359732  0.231069  0.056658    1.99      0  \n",
       "2 -0.263114  0.202369 -0.068883 -0.058826    9.99      0  \n",
       "3  0.152671  0.135607  0.026310  0.061945    0.00      0  \n",
       "4 -0.498980 -0.133635  0.161716  0.161888   15.29      0  \n",
       "\n",
       "[5 rows x 31 columns]"
      ]
     },
     "execution_count": 2,
     "metadata": {},
     "output_type": "execute_result"
    }
   ],
   "source": [
    "df = pd.read_csv('creditcard.csv', low_memory=False)\n",
    "df = df.sample(frac=1).reset_index(drop=True)\n",
    "df.head()"
   ]
  },
  {
   "cell_type": "code",
   "execution_count": 3,
   "metadata": {},
   "outputs": [
    {
     "name": "stdout",
     "output_type": "stream",
     "text": [
      "We have 492 fraud data points and 284315 nonfraudulent data points.\n"
     ]
    }
   ],
   "source": [
    "frauds = df.loc[df['Class'] == 1]\n",
    "non_frauds = df.loc[df['Class'] == 0]\n",
    "print(\"We have\", len(frauds), \"fraud data points and\", len(non_frauds), \"nonfraudulent data points.\")"
   ]
  },
  {
   "cell_type": "code",
   "execution_count": 4,
   "metadata": {},
   "outputs": [
    {
     "data": {
      "image/png": "[encoded data removed]",
      "text/plain": [
       "<Figure size 432x288 with 1 Axes>"
      ]
     },
     "metadata": {
      "needs_background": "light"
     },
     "output_type": "display_data"
    },
    {
     "name": "stdout",
     "output_type": "stream",
     "text": [
      "This feature looks important based on their distribution with respect to class.\n",
      "We will now zoom in onto the fraud data to see the ranges of amount just for fun.\n"
     ]
    }
   ],
   "source": [
    "ax = frauds.plot.scatter(x='Amount', y='Class', color='Orange', label='Fraud')\n",
    "non_frauds.plot.scatter(x='Amount', y='Class', color='Blue', label='Normal', ax=ax)\n",
    "plt.show()\n",
    "print(\"This feature looks important based on their distribution with respect to class.\")\n",
    "print(\"We will now zoom in onto the fraud data to see the ranges of amount just for fun.\")"
   ]
  },
  {
   "cell_type": "code",
   "execution_count": 5,
   "metadata": {},
   "outputs": [
    {
     "data": {
      "image/png": "[encoded data removed]",
      "text/plain": [
       "<Figure size 432x288 with 1 Axes>"
      ]
     },
     "metadata": {
      "needs_background": "light"
     },
     "output_type": "display_data"
    }
   ],
   "source": [
    "bx = frauds.plot.scatter(x='Amount', y='Class', color='Orange', label='Fraud')\n",
    "plt.show()\n"
   ]
  },
  {
   "cell_type": "code",
   "execution_count": 6,
   "metadata": {},
   "outputs": [
    {
     "data": {
      "image/png": "[encoded data removed]",
      "text/plain": [
       "<Figure size 432x288 with 1 Axes>"
      ]
     },
     "metadata": {
      "needs_background": "light"
     },
     "output_type": "display_data"
    },
    {
     "name": "stdout",
     "output_type": "stream",
     "text": [
      "This feature may not be very important because of the similar distribution.\n"
     ]
    }
   ],
   "source": [
    "ax = frauds.plot.scatter(x='V22', y='Class', color='Orange', label='Fraud')\n",
    "non_frauds.plot.scatter(x='V22', y='Class', color='Blue', label='Normal', ax=ax)\n",
    "plt.show()\n",
    "print(\"This feature may not be very important because of the similar distribution.\")"
   ]
  },
  {
   "cell_type": "markdown",
   "metadata": {},
   "source": [
    "# Logistic Regression (vanilla)"
   ]
  },
  {
   "cell_type": "code",
   "execution_count": 7,
   "metadata": {},
   "outputs": [],
   "source": [
    "from sklearn import datasets, linear_model\n",
    "from sklearn.preprocessing import PolynomialFeatures\n",
    "from sklearn.model_selection import train_test_split"
   ]
  },
  {
   "cell_type": "code",
   "execution_count": 8,
   "metadata": {},
   "outputs": [
    {
     "name": "stdout",
     "output_type": "stream",
     "text": [
      "X and y sizes, respectively: 284807 284807\n",
      "Train and test sizes, respectively: 185124 185124 | 99683 99683\n",
      "Total number of frauds: 492 0.001727485630620034\n",
      "Number of frauds on y_test: 168 0.0016853425358386083\n",
      "Number of frauds on y_train: 324 0.0017501782588967396\n"
     ]
    }
   ],
   "source": [
    "X = df.iloc[:,:-1]\n",
    "y = df['Class']\n",
    "\n",
    "print(\"X and y sizes, respectively:\", len(X), len(y))\n",
    "\n",
    "X_train, X_test, y_train, y_test = train_test_split(X, y, test_size=0.35)\n",
    "print(\"Train and test sizes, respectively:\", len(X_train), len(y_train), \"|\", len(X_test), len(y_test))\n",
    "print(\"Total number of frauds:\", len(y.loc[df['Class'] == 1]), len(y.loc[df['Class'] == 1])/len(y))\n",
    "print(\"Number of frauds on y_test:\", len(y_test.loc[df['Class'] == 1]), len(y_test.loc[df['Class'] == 1]) / len(y_test))\n",
    "print(\"Number of frauds on y_train:\", len(y_train.loc[df['Class'] == 1]), len(y_train.loc[df['Class'] == 1])/len(y_train))"
   ]
  },
  {
   "cell_type": "code",
   "execution_count": 9,
   "metadata": {},
   "outputs": [
    {
     "name": "stdout",
     "output_type": "stream",
     "text": [
      "Score:  0.999197455935315\n"
     ]
    },
    {
     "name": "stderr",
     "output_type": "stream",
     "text": [
      "C:\\Users\\Mnesoma\\Anaconda3\\lib\\site-packages\\sklearn\\linear_model\\_logistic.py:764: ConvergenceWarning: lbfgs failed to converge (status=1):\n",
      "STOP: TOTAL NO. of ITERATIONS REACHED LIMIT.\n",
      "\n",
      "Increase the number of iterations (max_iter) or scale the data as shown in:\n",
      "    https://scikit-learn.org/stable/modules/preprocessing.html\n",
      "Please also refer to the documentation for alternative solver options:\n",
      "    https://scikit-learn.org/stable/modules/linear_model.html#logistic-regression\n",
      "  extra_warning_msg=_LOGISTIC_SOLVER_CONVERGENCE_MSG)\n"
     ]
    }
   ],
   "source": [
    "logistic = linear_model.LogisticRegression(C=1e5)\n",
    "logistic.fit(X_train, y_train)\n",
    "print(\"Score: \", logistic.score(X_test, y_test))"
   ]
  },
  {
   "cell_type": "code",
   "execution_count": 12,
   "metadata": {},
   "outputs": [],
   "source": [
    "y_predicted = np.array(logistic.predict(X_test))\n",
    "y_right = np.array(y_test)"
   ]
  },
  {
   "cell_type": "code",
   "execution_count": 22,
   "metadata": {},
   "outputs": [
    {
     "name": "stdout",
     "output_type": "stream",
     "text": [
      "Confusion matrix:\n",
      "[[99474    41]\n",
      " [   39   129]]\n"
     ]
    },
    {
     "data": {
      "image/png": "[encoded data removed]",
      "text/plain": [
       "<Figure size 432x288 with 2 Axes>"
      ]
     },
     "metadata": {
      "needs_background": "light"
     },
     "output_type": "display_data"
    }
   ],
   "source": [
    "from sklearn import metrics\n",
    "confusion_matrix = metrics.confusion_matrix(y_right, y_predicted)\n",
    "print(\"Confusion matrix:\\n%s\" % confusion_matrix)\n",
    "\n",
    "cm_display = metrics.ConfusionMatrixDisplay(confusion_matrix = confusion_matrix, display_labels = [False, True])\n",
    "cm_display.plot()\n",
    "plt.show()\n",
    "\n",
    "from sklearn.preprocessing import scale\n",
    "import random"
   ]
  },
  {
   "cell_type": "code",
   "execution_count": null,
   "metadata": {},
   "outputs": [],
   "source": []
  }
 ],
 "metadata": {
  "kernelspec": {
   "display_name": "Python 3",
   "language": "python",
   "name": "python3"
  },
  "language_info": {
   "codemirror_mode": {
    "name": "ipython",
    "version": 3
   },
   "file_extension": ".py",
   "mimetype": "text/x-python",
   "name": "python",
   "nbconvert_exporter": "python",
   "pygments_lexer": "ipython3",
   "version": "3.7.3"
  }
 },
 "nbformat": 4,
 "nbformat_minor": 2
}
