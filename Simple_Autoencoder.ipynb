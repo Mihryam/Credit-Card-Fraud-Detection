{
  "cells": [
    {
      "cell_type": "code",
      "execution_count": 1,
      "metadata": {
        "id": "LxRgW4cTMSJO"
      },
      "outputs": [],
      "source": [
        "import numpy as np\n",
        "import pandas as pd\n",
        "\n",
        "import seaborn as sns"
      ]
    },
    {
      "cell_type": "code",
      "execution_count": 2,
      "metadata": {
        "id": "zHID81f6MSJT"
      },
      "outputs": [],
      "source": [
        "import matplotlib.pyplot as plt\n",
        "import matplotlib.gridspec as gridspec\n",
        "%matplotlib inline"
      ]
    },
    {
      "cell_type": "code",
      "execution_count": 3,
      "metadata": {
        "scrolled": true,
        "id": "k_EvItilMSJT"
      },
      "outputs": [],
      "source": [
        "import keras\n",
        "from keras import optimizers\n",
        "from keras import losses\n",
        "from keras.models import Sequential, Model\n",
        "from keras.layers import Dense, Input, Dropout, Embedding, LSTM\n",
        "from keras.optimizers import RMSprop, Adam, Nadam\n",
        "from keras.preprocessing import sequence\n",
        "from keras.callbacks import TensorBoard\n",
        "from keras import regularizers\n",
        "\n",
        "import sklearn\n",
        "from sklearn.preprocessing import StandardScaler\n",
        "from sklearn.model_selection import train_test_split\n",
        "from sklearn.metrics import confusion_matrix, roc_auc_score\n",
        "from sklearn.preprocessing import MinMaxScaler\n",
        "from sklearn.metrics import classification_report\n",
        "\n",
        "\n",
        "\n",
        "\n",
        "import tensorflow \n",
        "\n"
      ]
    },
    {
      "cell_type": "code",
      "source": [
        "# CODE TO VISUALIZE RESULTS VIA CONFUSION MATRIX, FRAUD CHARTS AND CHART FOR DIFFERENCE BETWEEN PREDICTED AND TRUE VALUES"
      ],
      "metadata": {
        "id": "TBzzPWrFrnyT"
      },
      "execution_count": 23,
      "outputs": []
    },
    {
      "cell_type": "code",
      "execution_count": 4,
      "metadata": {
        "id": "rSrW9Q4PMSJU"
      },
      "outputs": [],
      "source": [
        "class Visualization:\n",
        "    labels = [\"Normal\", \"Fraud\"]\n",
        "\n",
        "    def draw_confusion_matrix(self, y, ypred):\n",
        "        matrix = confusion_matrix(y, ypred)\n",
        "\n",
        "        plt.figure(figsize=(10, 8))\n",
        "        colors=[ \"orange\",\"green\"]\n",
        "        sns.heatmap(matrix, xticklabels=self.labels, yticklabels=self.labels, cmap=colors, annot=True, fmt=\"d\")\n",
        "        plt.title(\"Confusion Matrix\")\n",
        "        plt.ylabel('Actual')\n",
        "        plt.xlabel('Predicted')\n",
        "        plt.show()\n",
        "\n",
        "\n",
        "    def draw_anomaly(self, y, error, threshold):\n",
        "        groupsDF = pd.DataFrame({'error': error,\n",
        "                                 'true': y}).groupby('true')\n",
        "\n",
        "        figure, axes = plt.subplots(figsize=(12, 8))\n",
        "\n",
        "        for name, group in groupsDF:\n",
        "            axes.plot(group.index, group.error, marker='x' if name == 1 else 'o', linestyle='',\n",
        "                    color='r' if name == 1 else 'g', label=\"Fraud\" if name == 1 else \"Normal\")\n",
        "\n",
        "        axes.hlines(threshold, axes.get_xlim()[0], axes.get_xlim()[1], colors=\"b\", zorder=100, label='Threshold')\n",
        "        axes.legend()\n",
        "        \n",
        "        plt.title(\"Fraudulent\")\n",
        "        plt.ylabel(\"Error\")\n",
        "        plt.xlabel(\"Data\")\n",
        "        plt.show()\n",
        "\n",
        "    def draw_error(self, error, threshold):\n",
        "            plt.plot(error, marker='o', ms=3.5, linestyle='',\n",
        "                     label='Point')\n",
        "\n",
        "            plt.hlines(threshold, xmin=0, xmax=len(error)-1, colors=\"b\", zorder=100, label='Threshold')\n",
        "            plt.legend()\n",
        "            plt.title(\"Reconstruction error\")\n",
        "            plt.ylabel(\"Error\")\n",
        "            plt.xlabel(\"Data\")\n",
        "            plt.show()\n"
      ]
    },
    {
      "cell_type": "code",
      "source": [
        "# READING OUR DATA"
      ],
      "metadata": {
        "id": "1Za3hbgVsamT"
      },
      "execution_count": null,
      "outputs": []
    },
    {
      "cell_type": "code",
      "execution_count": 5,
      "metadata": {
        "colab": {
          "base_uri": "https://localhost:8080/",
          "height": 317
        },
        "id": "Llilgwg_MSJV",
        "outputId": "eeaa2d52-b6fc-4f60-b749-582d6625b36d"
      },
      "outputs": [
        {
          "output_type": "stream",
          "name": "stdout",
          "text": [
            "11959\n"
          ]
        },
        {
          "output_type": "execute_result",
          "data": {
            "text/plain": [
              "   Time        V1        V2        V3        V4        V5        V6        V7  \\\n",
              "0     0 -1.359807 -0.072781  2.536347  1.378155 -0.338321  0.462388  0.239599   \n",
              "1     0  1.191857  0.266151  0.166480  0.448154  0.060018 -0.082361 -0.078803   \n",
              "2     1 -1.358354 -1.340163  1.773209  0.379780 -0.503198  1.800499  0.791461   \n",
              "3     1 -0.966272 -0.185226  1.792993 -0.863291 -0.010309  1.247203  0.237609   \n",
              "4     2 -1.158233  0.877737  1.548718  0.403034 -0.407193  0.095921  0.592941   \n",
              "\n",
              "         V8        V9  ...       V21       V22       V23       V24       V25  \\\n",
              "0  0.098698  0.363787  ... -0.018307  0.277838 -0.110474  0.066928  0.128539   \n",
              "1  0.085102 -0.255425  ... -0.225775 -0.638672  0.101288 -0.339846  0.167170   \n",
              "2  0.247676 -1.514654  ...  0.247998  0.771679  0.909412 -0.689281 -0.327642   \n",
              "3  0.377436 -1.387024  ... -0.108300  0.005274 -0.190321 -1.175575  0.647376   \n",
              "4 -0.270533  0.817739  ... -0.009431  0.798278 -0.137458  0.141267 -0.206010   \n",
              "\n",
              "        V26       V27       V28  Amount  Class  \n",
              "0 -0.189115  0.133558 -0.021053  149.62    0.0  \n",
              "1  0.125895 -0.008983  0.014724    2.69    0.0  \n",
              "2 -0.139097 -0.055353 -0.059752  378.66    0.0  \n",
              "3 -0.221929  0.062723  0.061458  123.50    0.0  \n",
              "4  0.502292  0.219422  0.215153   69.99    0.0  \n",
              "\n",
              "[5 rows x 31 columns]"
            ],
            "text/html": [
              "\n",
              "  <div id=\"df-598f7bd9-9324-4afa-ba9a-29be05263ab4\">\n",
              "    <div class=\"colab-df-container\">\n",
              "      <div>\n",
              "<style scoped>\n",
              "    .dataframe tbody tr th:only-of-type {\n",
              "        vertical-align: middle;\n",
              "    }\n",
              "\n",
              "    .dataframe tbody tr th {\n",
              "        vertical-align: top;\n",
              "    }\n",
              "\n",
              "    .dataframe thead th {\n",
              "        text-align: right;\n",
              "    }\n",
              "</style>\n",
              "<table border=\"1\" class=\"dataframe\">\n",
              "  <thead>\n",
              "    <tr style=\"text-align: right;\">\n",
              "      <th></th>\n",
              "      <th>Time</th>\n",
              "      <th>V1</th>\n",
              "      <th>V2</th>\n",
              "      <th>V3</th>\n",
              "      <th>V4</th>\n",
              "      <th>V5</th>\n",
              "      <th>V6</th>\n",
              "      <th>V7</th>\n",
              "      <th>V8</th>\n",
              "      <th>V9</th>\n",
              "      <th>...</th>\n",
              "      <th>V21</th>\n",
              "      <th>V22</th>\n",
              "      <th>V23</th>\n",
              "      <th>V24</th>\n",
              "      <th>V25</th>\n",
              "      <th>V26</th>\n",
              "      <th>V27</th>\n",
              "      <th>V28</th>\n",
              "      <th>Amount</th>\n",
              "      <th>Class</th>\n",
              "    </tr>\n",
              "  </thead>\n",
              "  <tbody>\n",
              "    <tr>\n",
              "      <th>0</th>\n",
              "      <td>0</td>\n",
              "      <td>-1.359807</td>\n",
              "      <td>-0.072781</td>\n",
              "      <td>2.536347</td>\n",
              "      <td>1.378155</td>\n",
              "      <td>-0.338321</td>\n",
              "      <td>0.462388</td>\n",
              "      <td>0.239599</td>\n",
              "      <td>0.098698</td>\n",
              "      <td>0.363787</td>\n",
              "      <td>...</td>\n",
              "      <td>-0.018307</td>\n",
              "      <td>0.277838</td>\n",
              "      <td>-0.110474</td>\n",
              "      <td>0.066928</td>\n",
              "      <td>0.128539</td>\n",
              "      <td>-0.189115</td>\n",
              "      <td>0.133558</td>\n",
              "      <td>-0.021053</td>\n",
              "      <td>149.62</td>\n",
              "      <td>0.0</td>\n",
              "    </tr>\n",
              "    <tr>\n",
              "      <th>1</th>\n",
              "      <td>0</td>\n",
              "      <td>1.191857</td>\n",
              "      <td>0.266151</td>\n",
              "      <td>0.166480</td>\n",
              "      <td>0.448154</td>\n",
              "      <td>0.060018</td>\n",
              "      <td>-0.082361</td>\n",
              "      <td>-0.078803</td>\n",
              "      <td>0.085102</td>\n",
              "      <td>-0.255425</td>\n",
              "      <td>...</td>\n",
              "      <td>-0.225775</td>\n",
              "      <td>-0.638672</td>\n",
              "      <td>0.101288</td>\n",
              "      <td>-0.339846</td>\n",
              "      <td>0.167170</td>\n",
              "      <td>0.125895</td>\n",
              "      <td>-0.008983</td>\n",
              "      <td>0.014724</td>\n",
              "      <td>2.69</td>\n",
              "      <td>0.0</td>\n",
              "    </tr>\n",
              "    <tr>\n",
              "      <th>2</th>\n",
              "      <td>1</td>\n",
              "      <td>-1.358354</td>\n",
              "      <td>-1.340163</td>\n",
              "      <td>1.773209</td>\n",
              "      <td>0.379780</td>\n",
              "      <td>-0.503198</td>\n",
              "      <td>1.800499</td>\n",
              "      <td>0.791461</td>\n",
              "      <td>0.247676</td>\n",
              "      <td>-1.514654</td>\n",
              "      <td>...</td>\n",
              "      <td>0.247998</td>\n",
              "      <td>0.771679</td>\n",
              "      <td>0.909412</td>\n",
              "      <td>-0.689281</td>\n",
              "      <td>-0.327642</td>\n",
              "      <td>-0.139097</td>\n",
              "      <td>-0.055353</td>\n",
              "      <td>-0.059752</td>\n",
              "      <td>378.66</td>\n",
              "      <td>0.0</td>\n",
              "    </tr>\n",
              "    <tr>\n",
              "      <th>3</th>\n",
              "      <td>1</td>\n",
              "      <td>-0.966272</td>\n",
              "      <td>-0.185226</td>\n",
              "      <td>1.792993</td>\n",
              "      <td>-0.863291</td>\n",
              "      <td>-0.010309</td>\n",
              "      <td>1.247203</td>\n",
              "      <td>0.237609</td>\n",
              "      <td>0.377436</td>\n",
              "      <td>-1.387024</td>\n",
              "      <td>...</td>\n",
              "      <td>-0.108300</td>\n",
              "      <td>0.005274</td>\n",
              "      <td>-0.190321</td>\n",
              "      <td>-1.175575</td>\n",
              "      <td>0.647376</td>\n",
              "      <td>-0.221929</td>\n",
              "      <td>0.062723</td>\n",
              "      <td>0.061458</td>\n",
              "      <td>123.50</td>\n",
              "      <td>0.0</td>\n",
              "    </tr>\n",
              "    <tr>\n",
              "      <th>4</th>\n",
              "      <td>2</td>\n",
              "      <td>-1.158233</td>\n",
              "      <td>0.877737</td>\n",
              "      <td>1.548718</td>\n",
              "      <td>0.403034</td>\n",
              "      <td>-0.407193</td>\n",
              "      <td>0.095921</td>\n",
              "      <td>0.592941</td>\n",
              "      <td>-0.270533</td>\n",
              "      <td>0.817739</td>\n",
              "      <td>...</td>\n",
              "      <td>-0.009431</td>\n",
              "      <td>0.798278</td>\n",
              "      <td>-0.137458</td>\n",
              "      <td>0.141267</td>\n",
              "      <td>-0.206010</td>\n",
              "      <td>0.502292</td>\n",
              "      <td>0.219422</td>\n",
              "      <td>0.215153</td>\n",
              "      <td>69.99</td>\n",
              "      <td>0.0</td>\n",
              "    </tr>\n",
              "  </tbody>\n",
              "</table>\n",
              "<p>5 rows × 31 columns</p>\n",
              "</div>\n",
              "      <button class=\"colab-df-convert\" onclick=\"convertToInteractive('df-598f7bd9-9324-4afa-ba9a-29be05263ab4')\"\n",
              "              title=\"Convert this dataframe to an interactive table.\"\n",
              "              style=\"display:none;\">\n",
              "        \n",
              "  <svg xmlns=\"http://www.w3.org/2000/svg\" height=\"24px\"viewBox=\"0 0 24 24\"\n",
              "       width=\"24px\">\n",
              "    <path d=\"M0 0h24v24H0V0z\" fill=\"none\"/>\n",
              "    <path d=\"M18.56 5.44l.94 2.06.94-2.06 2.06-.94-2.06-.94-.94-2.06-.94 2.06-2.06.94zm-11 1L8.5 8.5l.94-2.06 2.06-.94-2.06-.94L8.5 2.5l-.94 2.06-2.06.94zm10 10l.94 2.06.94-2.06 2.06-.94-2.06-.94-.94-2.06-.94 2.06-2.06.94z\"/><path d=\"M17.41 7.96l-1.37-1.37c-.4-.4-.92-.59-1.43-.59-.52 0-1.04.2-1.43.59L10.3 9.45l-7.72 7.72c-.78.78-.78 2.05 0 2.83L4 21.41c.39.39.9.59 1.41.59.51 0 1.02-.2 1.41-.59l7.78-7.78 2.81-2.81c.8-.78.8-2.07 0-2.86zM5.41 20L4 18.59l7.72-7.72 1.47 1.35L5.41 20z\"/>\n",
              "  </svg>\n",
              "      </button>\n",
              "      \n",
              "  <style>\n",
              "    .colab-df-container {\n",
              "      display:flex;\n",
              "      flex-wrap:wrap;\n",
              "      gap: 12px;\n",
              "    }\n",
              "\n",
              "    .colab-df-convert {\n",
              "      background-color: #E8F0FE;\n",
              "      border: none;\n",
              "      border-radius: 50%;\n",
              "      cursor: pointer;\n",
              "      display: none;\n",
              "      fill: #1967D2;\n",
              "      height: 32px;\n",
              "      padding: 0 0 0 0;\n",
              "      width: 32px;\n",
              "    }\n",
              "\n",
              "    .colab-df-convert:hover {\n",
              "      background-color: #E2EBFA;\n",
              "      box-shadow: 0px 1px 2px rgba(60, 64, 67, 0.3), 0px 1px 3px 1px rgba(60, 64, 67, 0.15);\n",
              "      fill: #174EA6;\n",
              "    }\n",
              "\n",
              "    [theme=dark] .colab-df-convert {\n",
              "      background-color: #3B4455;\n",
              "      fill: #D2E3FC;\n",
              "    }\n",
              "\n",
              "    [theme=dark] .colab-df-convert:hover {\n",
              "      background-color: #434B5C;\n",
              "      box-shadow: 0px 1px 3px 1px rgba(0, 0, 0, 0.15);\n",
              "      filter: drop-shadow(0px 1px 2px rgba(0, 0, 0, 0.3));\n",
              "      fill: #FFFFFF;\n",
              "    }\n",
              "  </style>\n",
              "\n",
              "      <script>\n",
              "        const buttonEl =\n",
              "          document.querySelector('#df-598f7bd9-9324-4afa-ba9a-29be05263ab4 button.colab-df-convert');\n",
              "        buttonEl.style.display =\n",
              "          google.colab.kernel.accessAllowed ? 'block' : 'none';\n",
              "\n",
              "        async function convertToInteractive(key) {\n",
              "          const element = document.querySelector('#df-598f7bd9-9324-4afa-ba9a-29be05263ab4');\n",
              "          const dataTable =\n",
              "            await google.colab.kernel.invokeFunction('convertToInteractive',\n",
              "                                                     [key], {});\n",
              "          if (!dataTable) return;\n",
              "\n",
              "          const docLinkHtml = 'Like what you see? Visit the ' +\n",
              "            '<a target=\"_blank\" href=https://colab.research.google.com/notebooks/data_table.ipynb>data table notebook</a>'\n",
              "            + ' to learn more about interactive tables.';\n",
              "          element.innerHTML = '';\n",
              "          dataTable['output_type'] = 'display_data';\n",
              "          await google.colab.output.renderOutput(dataTable, element);\n",
              "          const docLink = document.createElement('div');\n",
              "          docLink.innerHTML = docLinkHtml;\n",
              "          element.appendChild(docLink);\n",
              "        }\n",
              "      </script>\n",
              "    </div>\n",
              "  </div>\n",
              "  "
            ]
          },
          "metadata": {},
          "execution_count": 5
        }
      ],
      "source": [
        "\n",
        "df = pd.read_csv('creditcard.csv', header=0, sep=',')\n",
        "print(df.shape[0])\n",
        "df.head()\n"
      ]
    },
    {
      "cell_type": "code",
      "execution_count": 6,
      "metadata": {
        "id": "lBBtKX87MSJW"
      },
      "outputs": [],
      "source": [
        "from sklearn.preprocessing import StandardScaler\n",
        "from sklearn.model_selection import train_test_split\n",
        "from sklearn.metrics import confusion_matrix, roc_auc_score\n",
        "from sklearn.preprocessing import MinMaxScaler\n",
        "from sklearn.metrics import classification_report\n"
      ]
    },
    {
      "cell_type": "code",
      "source": [
        "#I will collect 20k normal and 400 fraudulent records. I can pick different ratios\n",
        "#to try, but in general more normal data examples are better because I want to teach\n",
        "#the autoencoder what normal data looks like. Too much fraudulent data in training\n",
        "#will train the autoencoder to learn that the fraudulent records are actually normal, which goes\n",
        "#against my goal."
      ],
      "metadata": {
        "id": "XQLV4WHRswvF"
      },
      "execution_count": null,
      "outputs": []
    },
    {
      "cell_type": "code",
      "execution_count": 8,
      "metadata": {
        "id": "b6xvxfOxMSJW"
      },
      "outputs": [],
      "source": [
        "df['Amount'] = StandardScaler().fit_transform(df['Amount'].values.reshape(-1, 1))\n",
        "df0 = df.query('Class == 0').sample(20000, replace=True)\n",
        "df1 = df.query('Class == 1').sample(400, replace=True)\n",
        "df = pd.concat([df0, df1])\n"
      ]
    },
    {
      "cell_type": "code",
      "source": [
        "# Splitting the Data"
      ],
      "metadata": {
        "id": "nDm8VXcPtgMP"
      },
      "execution_count": null,
      "outputs": []
    },
    {
      "cell_type": "code",
      "execution_count": 9,
      "metadata": {
        "id": "Rdep3LIbMSJW",
        "outputId": "e5a497fc-36cd-4b19-f283-e1cfbfee2cf8",
        "colab": {
          "base_uri": "https://localhost:8080/"
        }
      },
      "outputs": [
        {
          "output_type": "stream",
          "name": "stdout",
          "text": [
            "(16320, 29) train samples\n",
            "(4080, 29) test samples\n"
          ]
        }
      ],
      "source": [
        "x_train, x_test, y_train, y_test = train_test_split(df.drop(labels=['Time', 'Class'], axis = 1) , \n",
        "                                                    df['Class'], test_size=0.2, random_state=42)\n",
        "print(x_train.shape, 'train samples')\n",
        "print(x_test.shape, 'test samples')\n"
      ]
    },
    {
      "cell_type": "code",
      "source": [
        "# Creatiing Simple Auto Emcoder Neural Network"
      ],
      "metadata": {
        "id": "90JSSwmytzqc"
      },
      "execution_count": null,
      "outputs": []
    },
    {
      "cell_type": "code",
      "execution_count": 10,
      "metadata": {
        "id": "CqPbDXE0MSJX",
        "outputId": "8a51f9d6-9ee9-4f0e-ccfe-a5f48db70b8b",
        "colab": {
          "base_uri": "https://localhost:8080/"
        }
      },
      "outputs": [
        {
          "output_type": "stream",
          "name": "stdout",
          "text": [
            "Model: \"model\"\n",
            "_________________________________________________________________\n",
            " Layer (type)                Output Shape              Param #   \n",
            "=================================================================\n",
            " input_1 (InputLayer)        [(None, 29)]              0         \n",
            "                                                                 \n",
            " dense (Dense)               (None, 12)                360       \n",
            "                                                                 \n",
            " dense_1 (Dense)             (None, 29)                377       \n",
            "                                                                 \n",
            "=================================================================\n",
            "Total params: 737\n",
            "Trainable params: 737\n",
            "Non-trainable params: 0\n",
            "_________________________________________________________________\n"
          ]
        }
      ],
      "source": [
        "#simple autoencoder\n",
        "logfilename = \"simpleautoencoder\"\n",
        "\n",
        "encoding_dim = 12\n",
        "input_dim = x_train.shape[1]\n",
        "\n",
        "inputArray = Input(shape=(input_dim,))\n",
        "encoded = Dense(encoding_dim, activation='relu')(inputArray)\n",
        "\n",
        "decoded = Dense(input_dim, activation='softmax')(encoded)\n",
        "\n",
        "autoencoder = Model(inputArray, decoded)\n",
        "autoencoder.summary()"
      ]
    },
    {
      "cell_type": "code",
      "execution_count": 11,
      "metadata": {
        "id": "-0o614spMSJX",
        "outputId": "a1f292d1-0b7e-441a-c8a6-6ca4ffba4552",
        "colab": {
          "base_uri": "https://localhost:8080/"
        }
      },
      "outputs": [
        {
          "output_type": "stream",
          "name": "stdout",
          "text": [
            "Model: \"model_1\"\n",
            "_________________________________________________________________\n",
            " Layer (type)                Output Shape              Param #   \n",
            "=================================================================\n",
            " input_2 (InputLayer)        [(None, 29)]              0         \n",
            "                                                                 \n",
            " dense_2 (Dense)             (None, 12)                360       \n",
            "                                                                 \n",
            " dense_3 (Dense)             (None, 29)                377       \n",
            "                                                                 \n",
            "=================================================================\n",
            "Total params: 737\n",
            "Trainable params: 737\n",
            "Non-trainable params: 0\n",
            "_________________________________________________________________\n"
          ]
        }
      ],
      "source": [
        "#sparse autoencoder\n",
        "logfilename = \"sparseautoencoder\"\n",
        "\n",
        "encoding_dim = 12\n",
        "input_dim = x_train.shape[1]\n",
        "\n",
        "inputArray = Input(shape=(input_dim,))\n",
        "encoded = Dense(encoding_dim, activation='relu',\n",
        "               activity_regularizer=regularizers.l1(10e-5))(inputArray)\n",
        "\n",
        "decoded = Dense(input_dim, activation='softmax')(encoded)\n",
        "\n",
        "autoencoder = Model(inputArray, decoded)\n",
        "autoencoder.summary()"
      ]
    },
    {
      "cell_type": "code",
      "execution_count": 12,
      "metadata": {
        "id": "1vzfCQL6MSJY",
        "outputId": "1a0dd3a3-a880-41bc-cd6d-a457c4b92c2b",
        "colab": {
          "base_uri": "https://localhost:8080/"
        }
      },
      "outputs": [
        {
          "output_type": "stream",
          "name": "stdout",
          "text": [
            "Model: \"model_2\"\n",
            "_________________________________________________________________\n",
            " Layer (type)                Output Shape              Param #   \n",
            "=================================================================\n",
            " input_3 (InputLayer)        [(None, 29)]              0         \n",
            "                                                                 \n",
            " dense_4 (Dense)             (None, 16)                480       \n",
            "                                                                 \n",
            " dense_5 (Dense)             (None, 8)                 136       \n",
            "                                                                 \n",
            " dense_6 (Dense)             (None, 4)                 36        \n",
            "                                                                 \n",
            " dense_7 (Dense)             (None, 8)                 40        \n",
            "                                                                 \n",
            " dense_8 (Dense)             (None, 16)                144       \n",
            "                                                                 \n",
            " dense_9 (Dense)             (None, 29)                493       \n",
            "                                                                 \n",
            "=================================================================\n",
            "Total params: 1,329\n",
            "Trainable params: 1,329\n",
            "Non-trainable params: 0\n",
            "_________________________________________________________________\n"
          ]
        }
      ],
      "source": [
        "#deep autoencoder\n",
        "logfilename = \"deepautoencoder\"\n",
        "\n",
        "encoding_dim = 16\n",
        "input_dim = x_train.shape[1]\n",
        "\n",
        "inputArray = Input(shape=(input_dim,))\n",
        "encoded = Dense(encoding_dim, activation='relu')(inputArray)\n",
        "encoded = Dense(8, activation='relu')(encoded)\n",
        "encoded = Dense(4, activation='relu')(encoded)\n",
        "\n",
        "decoded = Dense(8, activation='relu')(encoded)\n",
        "decoded = Dense(encoding_dim, activation='relu')(decoded)\n",
        "decoded = Dense(input_dim, activation='softmax')(decoded)\n",
        "\n",
        "autoencoder = Model(inputArray, decoded)\n",
        "autoencoder.summary()"
      ]
    },
    {
      "cell_type": "code",
      "execution_count": 13,
      "metadata": {
        "id": "ikO8B1SVMSJY"
      },
      "outputs": [],
      "source": [
        "autoencoder.compile(optimizer=RMSprop(), \n",
        "                    loss='mean_squared_error',\n",
        "                    metrics=['mae', 'accuracy'])"
      ]
    },
    {
      "cell_type": "code",
      "execution_count": 14,
      "metadata": {
        "id": "8MlKHq1fMSJY",
        "outputId": "0a94a93e-c78d-4f66-ab37-677c0ccfe10b",
        "colab": {
          "base_uri": "https://localhost:8080/"
        }
      },
      "outputs": [
        {
          "output_type": "stream",
          "name": "stdout",
          "text": [
            "Epoch 1/20\n",
            "510/510 [==============================] - 4s 5ms/step - loss: 1.7173 - mae: 0.7493 - accuracy: 0.1804 - val_loss: 1.8159 - val_mae: 0.7489 - val_accuracy: 0.3461\n",
            "Epoch 2/20\n",
            "510/510 [==============================] - 2s 4ms/step - loss: 1.6804 - mae: 0.7399 - accuracy: 0.4067 - val_loss: 1.7973 - val_mae: 0.7441 - val_accuracy: 0.4939\n",
            "Epoch 3/20\n",
            "510/510 [==============================] - 1s 3ms/step - loss: 1.6707 - mae: 0.7375 - accuracy: 0.5029 - val_loss: 1.7939 - val_mae: 0.7433 - val_accuracy: 0.5255\n",
            "Epoch 4/20\n",
            "510/510 [==============================] - 1s 3ms/step - loss: 1.6683 - mae: 0.7370 - accuracy: 0.5250 - val_loss: 1.7920 - val_mae: 0.7429 - val_accuracy: 0.5429\n",
            "Epoch 5/20\n",
            "510/510 [==============================] - 1s 3ms/step - loss: 1.6666 - mae: 0.7366 - accuracy: 0.5388 - val_loss: 1.7906 - val_mae: 0.7426 - val_accuracy: 0.5559\n",
            "Epoch 6/20\n",
            "510/510 [==============================] - 2s 3ms/step - loss: 1.6654 - mae: 0.7363 - accuracy: 0.5561 - val_loss: 1.7896 - val_mae: 0.7423 - val_accuracy: 0.5699\n",
            "Epoch 7/20\n",
            "510/510 [==============================] - 2s 3ms/step - loss: 1.6639 - mae: 0.7361 - accuracy: 0.5708 - val_loss: 1.7876 - val_mae: 0.7421 - val_accuracy: 0.5873\n",
            "Epoch 8/20\n",
            "510/510 [==============================] - 2s 3ms/step - loss: 1.6622 - mae: 0.7359 - accuracy: 0.5860 - val_loss: 1.7869 - val_mae: 0.7419 - val_accuracy: 0.5966\n",
            "Epoch 9/20\n",
            "510/510 [==============================] - 3s 5ms/step - loss: 1.6616 - mae: 0.7357 - accuracy: 0.5938 - val_loss: 1.7862 - val_mae: 0.7418 - val_accuracy: 0.6056\n",
            "Epoch 10/20\n",
            "510/510 [==============================] - 2s 3ms/step - loss: 1.6610 - mae: 0.7356 - accuracy: 0.6029 - val_loss: 1.7859 - val_mae: 0.7418 - val_accuracy: 0.6061\n",
            "Epoch 11/20\n",
            "510/510 [==============================] - 1s 3ms/step - loss: 1.6604 - mae: 0.7355 - accuracy: 0.6073 - val_loss: 1.7855 - val_mae: 0.7417 - val_accuracy: 0.6145\n",
            "Epoch 12/20\n",
            "510/510 [==============================] - 2s 3ms/step - loss: 1.6600 - mae: 0.7355 - accuracy: 0.6156 - val_loss: 1.7849 - val_mae: 0.7416 - val_accuracy: 0.6199\n",
            "Epoch 13/20\n",
            "510/510 [==============================] - 1s 3ms/step - loss: 1.6597 - mae: 0.7354 - accuracy: 0.6190 - val_loss: 1.7847 - val_mae: 0.7415 - val_accuracy: 0.6257\n",
            "Epoch 14/20\n",
            "510/510 [==============================] - 2s 3ms/step - loss: 1.6595 - mae: 0.7354 - accuracy: 0.6192 - val_loss: 1.7844 - val_mae: 0.7415 - val_accuracy: 0.6265\n",
            "Epoch 15/20\n",
            "510/510 [==============================] - 2s 3ms/step - loss: 1.6593 - mae: 0.7353 - accuracy: 0.6222 - val_loss: 1.7842 - val_mae: 0.7415 - val_accuracy: 0.6306\n",
            "Epoch 16/20\n",
            "510/510 [==============================] - 2s 4ms/step - loss: 1.6591 - mae: 0.7353 - accuracy: 0.6244 - val_loss: 1.7840 - val_mae: 0.7414 - val_accuracy: 0.6297\n",
            "Epoch 17/20\n",
            "510/510 [==============================] - 2s 4ms/step - loss: 1.6590 - mae: 0.7353 - accuracy: 0.6269 - val_loss: 1.7839 - val_mae: 0.7415 - val_accuracy: 0.6358\n",
            "Epoch 18/20\n",
            "510/510 [==============================] - 2s 3ms/step - loss: 1.6588 - mae: 0.7353 - accuracy: 0.6301 - val_loss: 1.7837 - val_mae: 0.7414 - val_accuracy: 0.6350\n",
            "Epoch 19/20\n",
            "510/510 [==============================] - 2s 3ms/step - loss: 1.6586 - mae: 0.7352 - accuracy: 0.6288 - val_loss: 1.7837 - val_mae: 0.7414 - val_accuracy: 0.6355\n",
            "Epoch 20/20\n",
            "510/510 [==============================] - 2s 3ms/step - loss: 1.6585 - mae: 0.7352 - accuracy: 0.6316 - val_loss: 1.7834 - val_mae: 0.7414 - val_accuracy: 0.6402\n"
          ]
        }
      ],
      "source": [
        "batch_size = 32\n",
        "epochs = 20\n",
        "\n",
        "history = autoencoder.fit(x_train, x_train,\n",
        "                    batch_size=batch_size,\n",
        "                    epochs=epochs,\n",
        "                    verbose=1,\n",
        "                    shuffle=True,\n",
        "                    validation_data=(x_test, x_test),\n",
        "                    callbacks=[TensorBoard(log_dir='../logs/{0}'.format(logfilename))])\n"
      ]
    },
    {
      "cell_type": "code",
      "execution_count": 15,
      "metadata": {
        "id": "j3ccVpZEMSJZ",
        "outputId": "87adb3c7-604c-4417-dc33-de1b65250cde",
        "colab": {
          "base_uri": "https://localhost:8080/"
        }
      },
      "outputs": [
        {
          "output_type": "stream",
          "name": "stdout",
          "text": [
            "128/128 [==============================] - 0s 2ms/step - loss: 1.7834 - mae: 0.7414 - accuracy: 0.6402\n",
            "Test loss: 1.7833548784255981\n",
            "Test accuracy: 0.741369903087616\n"
          ]
        }
      ],
      "source": [
        "score = autoencoder.evaluate(x_test, x_test, verbose=1)\n",
        "print('Test loss:', score[0])\n",
        "print('Test accuracy:', score[1])"
      ]
    },
    {
      "cell_type": "code",
      "execution_count": 16,
      "metadata": {
        "id": "9gNwG9nuMSJZ",
        "outputId": "6290a4e6-d541-4432-ab6b-55b01bf7c781",
        "colab": {
          "base_uri": "https://localhost:8080/"
        }
      },
      "outputs": [
        {
          "output_type": "stream",
          "name": "stdout",
          "text": [
            "128/128 [==============================] - 0s 2ms/step\n"
          ]
        }
      ],
      "source": [
        "threshold=15.00\n",
        "y_pred = autoencoder.predict(x_test)\n",
        "y_dist = np.linalg.norm(x_test - y_pred, axis=-1)\n",
        "z = zip(y_dist >= threshold, y_dist)\n",
        "y_label=[]\n",
        "error = []\n",
        "for idx, (is_anomaly, y_dist) in enumerate(z):\n",
        "    if is_anomaly:\n",
        "        y_label.append(1)\n",
        "    else:\n",
        "        y_label.append(0)\n",
        "    error.append(y_dist)\n",
        "\n"
      ]
    },
    {
      "cell_type": "code",
      "execution_count": 17,
      "metadata": {
        "id": "594X1yOjMSJZ",
        "outputId": "6049c2df-bc37-45f0-8124-e400ef23493a",
        "colab": {
          "base_uri": "https://localhost:8080/"
        }
      },
      "outputs": [
        {
          "output_type": "stream",
          "name": "stdout",
          "text": [
            "              precision    recall  f1-score   support\n",
            "\n",
            "         0.0       1.00      0.99      0.99      3987\n",
            "         1.0       0.69      0.80      0.74        93\n",
            "\n",
            "    accuracy                           0.99      4080\n",
            "   macro avg       0.84      0.89      0.87      4080\n",
            "weighted avg       0.99      0.99      0.99      4080\n",
            "\n"
          ]
        }
      ],
      "source": [
        "print(classification_report(y_test,y_label))"
      ]
    },
    {
      "cell_type": "code",
      "execution_count": 18,
      "metadata": {
        "id": "YOEwv9z8MSJa",
        "outputId": "6c19a3ba-d8e5-411b-eb86-eda505979237",
        "colab": {
          "base_uri": "https://localhost:8080/"
        }
      },
      "outputs": [
        {
          "output_type": "stream",
          "name": "stdout",
          "text": [
            "              precision    recall  f1-score   support\n",
            "\n",
            "         0.0       1.00      0.99      0.99      3987\n",
            "         1.0       0.69      0.80      0.74        93\n",
            "\n",
            "    accuracy                           0.99      4080\n",
            "   macro avg       0.84      0.89      0.87      4080\n",
            "weighted avg       0.99      0.99      0.99      4080\n",
            "\n"
          ]
        }
      ],
      "source": [
        "print(classification_report(y_test,y_label))"
      ]
    },
    {
      "cell_type": "code",
      "execution_count": 19,
      "metadata": {
        "id": "y4pqWe4nMSJa",
        "outputId": "77ba40a8-f60d-4439-c33d-e0686311f6bb",
        "colab": {
          "base_uri": "https://localhost:8080/"
        }
      },
      "outputs": [
        {
          "output_type": "stream",
          "name": "stdout",
          "text": [
            "              precision    recall  f1-score   support\n",
            "\n",
            "         0.0       1.00      0.99      0.99      3987\n",
            "         1.0       0.69      0.80      0.74        93\n",
            "\n",
            "    accuracy                           0.99      4080\n",
            "   macro avg       0.84      0.89      0.87      4080\n",
            "weighted avg       0.99      0.99      0.99      4080\n",
            "\n"
          ]
        }
      ],
      "source": [
        "print(classification_report(y_test,y_label))"
      ]
    },
    {
      "cell_type": "code",
      "execution_count": 20,
      "metadata": {
        "id": "NCilIAsHMSJa",
        "outputId": "5984edca-d4e7-4ab1-b585-e2d2b1f13ba5",
        "colab": {
          "base_uri": "https://localhost:8080/"
        }
      },
      "outputs": [
        {
          "output_type": "stream",
          "name": "stdout",
          "text": [
            "              precision    recall  f1-score   support\n",
            "\n",
            "         0.0       1.00      0.99      0.99      3987\n",
            "         1.0       0.69      0.80      0.74        93\n",
            "\n",
            "    accuracy                           0.99      4080\n",
            "   macro avg       0.84      0.89      0.87      4080\n",
            "weighted avg       0.99      0.99      0.99      4080\n",
            "\n"
          ]
        }
      ],
      "source": [
        "print(classification_report(y_test,y_label))"
      ]
    },
    {
      "cell_type": "code",
      "execution_count": 21,
      "metadata": {
        "id": "4VcY2H0tMSJa",
        "outputId": "5778315b-3839-4539-a53b-4ff19cbe4010",
        "colab": {
          "base_uri": "https://localhost:8080/"
        }
      },
      "outputs": [
        {
          "output_type": "execute_result",
          "data": {
            "text/plain": [
              "0.8937110124032136"
            ]
          },
          "metadata": {},
          "execution_count": 21
        }
      ],
      "source": [
        "roc_auc_score(y_test, y_label)"
      ]
    },
    {
      "cell_type": "code",
      "execution_count": 22,
      "metadata": {
        "id": "MSuqdHHoMSJb",
        "outputId": "e15acb64-5339-46cc-cbb8-073b750908e7",
        "colab": {
          "base_uri": "https://localhost:8080/",
          "height": 513
        }
      },
      "outputs": [
        {
          "output_type": "display_data",
          "data": {
            "text/plain": [
              "<Figure size 720x576 with 2 Axes>"
            ],
            "image/png": "[encoded data removed]"
          },
          "metadata": {
            "needs_background": "light"
          }
        }
      ],
      "source": [
        "viz = Visualization()\n",
        "\n",
        "viz.draw_confusion_matrix(y_test, y_label)"
      ]
    },
    {
      "cell_type": "code",
      "execution_count": 23,
      "metadata": {
        "id": "YRCblj8rMSJb",
        "outputId": "29dd54f2-c06b-482f-8f52-8d9748497808",
        "colab": {
          "base_uri": "https://localhost:8080/",
          "height": 513
        }
      },
      "outputs": [
        {
          "output_type": "display_data",
          "data": {
            "text/plain": [
              "<Figure size 864x576 with 1 Axes>"
            ],
            "image/png": "[encoded data removed]"
          },
          "metadata": {
            "needs_background": "light"
          }
        }
      ],
      "source": [
        "viz.draw_anomaly(y_test, error, threshold)"
      ]
    },
    {
      "cell_type": "code",
      "execution_count": null,
      "metadata": {
        "id": "lWgkor5yMSJb"
      },
      "outputs": [],
      "source": []
    }
  ],
  "metadata": {
    "kernelspec": {
      "display_name": "Python 3",
      "language": "python",
      "name": "python3"
    },
    "language_info": {
      "codemirror_mode": {
        "name": "ipython",
        "version": 3
      },
      "file_extension": ".py",
      "mimetype": "text/x-python",
      "name": "python",
      "nbconvert_exporter": "python",
      "pygments_lexer": "ipython3",
      "version": "3.7.3"
    },
    "colab": {
      "provenance": []
    }
  },
  "nbformat": 4,
  "nbformat_minor": 0
}