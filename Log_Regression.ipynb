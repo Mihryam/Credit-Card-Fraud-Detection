{
  "nbformat": 4,
  "nbformat_minor": 0,
  "metadata": {
    "colab": {
      "provenance": [],
      "authorship_tag": "ABX9TyPH1ZWNKRCzQ58cCJC/dSN/"
    },
    "kernelspec": {
      "name": "python3",
      "display_name": "Python 3"
    },
    "language_info": {
      "name": "python"
    }
  },
  "cells": [
    {
      "cell_type": "code",
      "execution_count": null,
      "metadata": {
        "id": "qw-QTDIJTP6Z"
      },
      "outputs": [],
      "source": [
        "import pandas as pd\n",
        "import numpy as np\n",
        "import seaborn as sns\n",
        "import matplotlib.pyplot as plt\n",
        "\n",
        "from sklearn.preprocessing import StandardScaler\n",
        "from sklearn.model_selection import train_test_split\n",
        "from imblearn.over_sampling import SMOTE\n",
        "from sklearn.linear_model import LogisticRegression\n",
        "from sklearn.metrics import classification_report, confusion_matrix, roc_auc_score\n",
        "\n",
        "# Load the credit card dataset\n",
        "df = pd.read_csv('creditcard.csv')\n",
        "\n",
        "# Standardize the 'Amount' column in the DataFrame\n",
        "df['Amount'] = StandardScaler().fit_transform(df['Amount'].values.reshape(-1, 1))\n",
        "\n",
        "# Split the data into training and testing sets\n",
        "X_train, X_test, y_train, y_test = train_test_split(df.drop('Class', axis=1), df['Class'], test_size=0.2, random_state=42)\n",
        "\n",
        "# Use SMOTE to oversample the minority class in the training set\n",
        "sm = SMOTE(random_state=42)\n",
        "X_train_oversampled, y_train_oversampled = sm.fit_resample(X_train, y_train)\n",
        "\n",
        "# Train a logistic regression model on the oversampled training set\n",
        "lr = LogisticRegression(random_state=42)\n",
        "lr.fit(X_train_oversampled, y_train_oversampled)\n",
        "\n",
        "# Make predictions on the test set\n",
        "y_pred = lr.predict(X_test)\n",
        "\n",
        "# Evaluate the model using classification report, confusion matrix, and ROC AUC score\n",
        "print('Classification report:\\n', classification_report(y_test, y_pred))\n",
        "print('Confusion matrix:\\n', confusion_matrix(y_test, y_pred))\n",
        "print('ROC AUC score:', roc_auc_score(y_test, y_pred))\n"
      ]
    }
  ]
}